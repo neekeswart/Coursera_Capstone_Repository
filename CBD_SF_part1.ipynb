{
 "cells": [
  {
   "cell_type": "markdown",
   "metadata": {},
   "source": [
    "# Battle of the neighborhoods in San Francisco, CA\n",
    "##### Capstone Project; The Battle of the Neighborhoods (San Fransisco, CA), \n",
    "##### The 'Applied Data Science Capstone' Coursera Course is part of IBM's Professional Certificate 'Data Scientist'"
   ]
  },
  {
   "cell_type": "markdown",
   "metadata": {},
   "source": [
    " \n"
   ]
  },
  {
   "cell_type": "markdown",
   "metadata": {},
   "source": [
    "## Executive Summary\n",
    "\n",
    "(UNDER CONSTRUCTION)"
   ]
  },
  {
   "cell_type": "markdown",
   "metadata": {},
   "source": [
    "## Table of contents\n",
    "\n",
    "1. Introduction: Business Question and Problem\n",
    "2. Data\n",
    "3. Methodology\n",
    "4. Analysis\n",
    "5. Results and Discussion\n",
    "6. Conclusion"
   ]
  },
  {
   "cell_type": "markdown",
   "metadata": {},
   "source": [
    "## 1. Introduction"
   ]
  },
  {
   "cell_type": "markdown",
   "metadata": {},
   "source": [
    "The CBD,  or cannabidiol, market is a fast growing market which offers CBD in a broad range of products. Well-known product forms are oils/tinctures, lotions/balms, and gummies. Less well-known CBD infused products are bedsheets, bath bombs, and dog treats. According to Consumer Reports (2019) CBD products are primarily used to reduce stress/anxiety and joint pain (61%), and insomnia (10%). Recreational use comprises 10% of CBD use. The Brightfield Group (2017) expects the CBD market to grow to $25 billion by 2025, up from 4.67 million in 2017. \n",
    "\n",
    "Currently the leading the market is California, CA  (Statista, 2021). Our client, a medium sized CBD seller with a broad range of products, has decided to open a store in San Francisco, CA. The company asked us to make a data driven recommendation for 3 possible areas that fall within the following guidelines (in order of importance):\n",
    "1. The preferred area is a cluster of neighborhoods, although a single neighborhood is not rejected beforehand.\n",
    "2. The dominant age group in the area is 20 -34 year (33% of CBD-only product users).\n",
    "3. The area has enough businesses to attract people that are interested health and/or are looking for fun. Examples are organic restaurants and shops, pharmacies with CBD, vitamins and supplements on their shelves, coffeeshops, restaurants and/or nightlife.\n",
    "\n",
    "The foundation of the recommendation is laid in the 'Data' section of this report. Here the report shows how the gathered data was cleaned and prepared. Following the methodology described in the 'Methodology' section, the 'Analysis' section reports on the data analysis. Finally, after the findings and recommendation are discussed in the 'Results and Discussion' section, final remarks are made in the 'Conclusion'."
   ]
  },
  {
   "cell_type": "markdown",
   "metadata": {},
   "source": [
    "## 2. Data"
   ]
  },
  {
   "cell_type": "markdown",
   "metadata": {},
   "source": [
    "Based on aforementioned guidelines data will be gathered regarding:\n",
    "- Neighborhoods of San Francisco. Neighborhoods will be defined by their zip code. \n",
    "- Age distribution in the San Francisco neighborhoods\n",
    "- Top 5 venues in the San Francisco neighborhoods\n",
    "\n",
    "Following resources will be used to get and process the information:\n",
    "- The coordinates of San Francisco will be obtained by using 'Geopy Library'.\n",
    "- The neighborhoods and their Zip Codes will be scraped from the web. The latitudes and longitudes of the neighborhoods will be added by geocoding using 'uszipcode' (zip code database in Python).\n",
    "- The neighborhoods will be mapped using the Folium library.\n",
    "- The age distribution per zip code will be extracted from the American Community Survey (ACS, 2019) of the US Census Bureau.\n",
    "- The top 5 venues per neighborhood, with their type and relative presence will be obtained using __Foursquare API__."
   ]
  },
  {
   "cell_type": "code",
   "execution_count": null,
   "metadata": {},
   "outputs": [],
   "source": []
  }
 ],
 "metadata": {
  "kernelspec": {
   "display_name": "Python 3",
   "language": "python",
   "name": "python3"
  },
  "language_info": {
   "codemirror_mode": {
    "name": "ipython",
    "version": 3
   },
   "file_extension": ".py",
   "mimetype": "text/x-python",
   "name": "python",
   "nbconvert_exporter": "python",
   "pygments_lexer": "ipython3",
   "version": "3.8.5"
  }
 },
 "nbformat": 4,
 "nbformat_minor": 4
}
